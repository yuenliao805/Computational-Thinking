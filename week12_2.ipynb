{
  "nbformat": 4,
  "nbformat_minor": 0,
  "metadata": {
    "colab": {
      "name": "week12-2.ipynb",
      "provenance": [],
      "authorship_tag": "ABX9TyOC/kP17WJ6L1KqIiLFdjkO",
      "include_colab_link": true
    },
    "kernelspec": {
      "name": "python3",
      "display_name": "Python 3"
    }
  },
  "cells": [
    {
      "cell_type": "markdown",
      "metadata": {
        "id": "view-in-github",
        "colab_type": "text"
      },
      "source": [
        "<a href=\"https://colab.research.google.com/github/yuenliao805/Computational-Thinking/blob/master/week12_2.ipynb\" target=\"_parent\"><img src=\"https://colab.research.google.com/assets/colab-badge.svg\" alt=\"Open In Colab\"/></a>"
      ]
    },
    {
      "cell_type": "markdown",
      "metadata": {
        "id": "-LgFSrlhsLV2"
      },
      "source": [
        "隨堂練習2"
      ]
    },
    {
      "cell_type": "code",
      "metadata": {
        "colab": {
          "base_uri": "https://localhost:8080/"
        },
        "id": "Gh4ZImtmjYz8",
        "outputId": "104c6dd2-bb60-4990-fa8a-d460829d4a72"
      },
      "source": [
        "season=\"2011-2012\"\n",
        "team=\"Miami Heat\"\n",
        "coach=\"Erik Spoelstra\"\n",
        "records=[4,1]\n",
        "starting=[\"Ray Allen\",\"Shane Battier\",\"Chris Bosh\",\"Mario Chalmers\",\"Norris Cole\"]\n",
        "champion=True\n",
        "#變數best_NBA賦值串列\n",
        "best_NBA=((season,team,coach,records,starting,champion))\n",
        "#typeerror:list expected at most 1 arguments,got6(要有兩個小括號)\n",
        "print(best_NBA)\n",
        "print(type(best_NBA[4]))\n",
        "#indexing索引\n",
        "print(best_NBA[-2])\n",
        "#slicing 切片\n",
        "print(best_NBA[1:4])"
      ],
      "execution_count": 8,
      "outputs": [
        {
          "output_type": "stream",
          "text": [
            "('2011-2012', 'Miami Heat', 'Erik Spoelstra', [4, 1], ['Ray Allen', 'Shane Battier', 'Chris Bosh', 'Mario Chalmers', 'Norris Cole'], True)\n",
            "<class 'list'>\n",
            "['Ray Allen', 'Shane Battier', 'Chris Bosh', 'Mario Chalmers', 'Norris Cole']\n",
            "('Miami Heat', 'Erik Spoelstra', [4, 1])\n"
          ],
          "name": "stdout"
        }
      ]
    }
  ]
}