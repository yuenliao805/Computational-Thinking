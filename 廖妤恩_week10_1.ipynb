{
  "nbformat": 4,
  "nbformat_minor": 0,
  "metadata": {
    "colab": {
      "name": "廖妤恩-week10-1.ipynb",
      "provenance": [],
      "authorship_tag": "ABX9TyMEJ4vNT8k03JW6h6vCyP+H",
      "include_colab_link": true
    },
    "kernelspec": {
      "name": "python3",
      "display_name": "Python 3"
    }
  },
  "cells": [
    {
      "cell_type": "markdown",
      "metadata": {
        "id": "view-in-github",
        "colab_type": "text"
      },
      "source": [
        "<a href=\"https://colab.research.google.com/github/yuenliao805/Computational-Thinking/blob/master/%E5%BB%96%E5%A6%A4%E6%81%A9_week10_1.ipynb\" target=\"_parent\"><img src=\"https://colab.research.google.com/assets/colab-badge.svg\" alt=\"Open In Colab\"/></a>"
      ]
    },
    {
      "cell_type": "code",
      "metadata": {
        "colab": {
          "base_uri": "https://localhost:8080/"
        },
        "id": "mVL-vcNlRprF",
        "outputId": "51f60f49-8077-4602-fedd-5e13e3da79b9"
      },
      "source": [
        "movie_title=\"Pitch Perfect\"\n",
        "release_year=\"2012\"\n",
        "screenwrite=\"Kay Cannon\"\n",
        "director=\"Jason Moore\"\n",
        "langugue=\"English\"\n",
        "\n",
        "print(\"電影英文名稱\",movie_title)\n",
        "print(\"上映時間\",release_year)\n",
        "print(\"編劇\",screenwrite)\n",
        "print(\"導演\",director)\n",
        "print(\"語言\",langugue)"
      ],
      "execution_count": 5,
      "outputs": [
        {
          "output_type": "stream",
          "text": [
            "電影英文名稱 Pitch Perfect\n",
            "上映時間 2012\n",
            "編劇 Kay Cannon\n",
            "導演 Jason Moore\n",
            "語言 English\n"
          ],
          "name": "stdout"
        }
      ]
    }
  ]
}