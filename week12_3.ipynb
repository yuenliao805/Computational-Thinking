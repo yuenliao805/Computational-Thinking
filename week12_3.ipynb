{
  "nbformat": 4,
  "nbformat_minor": 0,
  "metadata": {
    "colab": {
      "name": "week12-3.ipynb",
      "provenance": [],
      "authorship_tag": "ABX9TyPqaJU24HWtPfYFbx5FPdJJ",
      "include_colab_link": true
    },
    "kernelspec": {
      "name": "python3",
      "display_name": "Python 3"
    }
  },
  "cells": [
    {
      "cell_type": "markdown",
      "metadata": {
        "id": "view-in-github",
        "colab_type": "text"
      },
      "source": [
        "<a href=\"https://colab.research.google.com/github/yuenliao805/Computational-Thinking/blob/master/week12_3.ipynb\" target=\"_parent\"><img src=\"https://colab.research.google.com/assets/colab-badge.svg\" alt=\"Open In Colab\"/></a>"
      ]
    },
    {
      "cell_type": "markdown",
      "metadata": {
        "id": "NLPnUaWct1F3"
      },
      "source": [
        "隨堂練習三"
      ]
    },
    {
      "cell_type": "code",
      "metadata": {
        "colab": {
          "base_uri": "https://localhost:8080/"
        },
        "id": "RIiT-TCZswIO",
        "outputId": "bb56aec4-ba46-4ac8-998f-c5b574aae959"
      },
      "source": [
        "#range指令練習\n",
        "#[0,1,2,3,4]\n",
        "a=range(5) #range(0,5,1),range(0,5)\n",
        "print(a)\n",
        "\n",
        "print(a[0],a[1],a[2],a[3],a[4])"
      ],
      "execution_count": null,
      "outputs": [
        {
          "output_type": "stream",
          "text": [
            "range(0, 5)\n",
            "0 1 2 3 4\n"
          ],
          "name": "stdout"
        }
      ]
    },
    {
      "cell_type": "code",
      "metadata": {
        "colab": {
          "base_uri": "https://localhost:8080/"
        },
        "id": "lrdFWwOiubvF",
        "outputId": "2aa7a843-1fac-45db-c241-990192777128"
      },
      "source": [
        "#[2,3,4,5]\n",
        "b=range(2,6)#range(2,6,1)\n",
        "print(b[0],b[1],b[2],b[3])"
      ],
      "execution_count": null,
      "outputs": [
        {
          "output_type": "stream",
          "text": [
            "2 3 4 5\n"
          ],
          "name": "stdout"
        }
      ]
    },
    {
      "cell_type": "code",
      "metadata": {
        "colab": {
          "base_uri": "https://localhost:8080/"
        },
        "id": "RDoeAq0Hu8rL",
        "outputId": "401f9cc0-f95a-4299-a27d-4591f6be3db7"
      },
      "source": [
        "#[2,5,8]\n",
        "c=range(2,10,3)\n",
        "print(c[0],c[1],c[2])"
      ],
      "execution_count": null,
      "outputs": [
        {
          "output_type": "stream",
          "text": [
            "2 5 8\n"
          ],
          "name": "stdout"
        }
      ]
    },
    {
      "cell_type": "code",
      "metadata": {
        "colab": {
          "base_uri": "https://localhost:8080/"
        },
        "id": "hsMnCE3Bvpaf",
        "outputId": "1b1114ca-e2dd-4b44-c24a-4d4019b08b5a"
      },
      "source": [
        "#[10,8,6,4]\n",
        "d=range(10,3,-2)\n",
        "print(d[0],d[1],d[2],d[3])"
      ],
      "execution_count": null,
      "outputs": [
        {
          "output_type": "stream",
          "text": [
            "10 8 6 4\n"
          ],
          "name": "stdout"
        }
      ]
    },
    {
      "cell_type": "code",
      "metadata": {
        "id": "bNhl5RUhwNuu",
        "colab": {
          "base_uri": "https://localhost:8080/"
        },
        "outputId": "477f1055-3244-491e-9d15-ac641f370737"
      },
      "source": [
        "#[0,1,2,3,4,5,6,7,8,9]\n",
        "e=range(0,10,1)\n",
        "print(e[0],e[1],e[2],e[3],e[4],e[5],e[6],e[7],e[8],e[9])"
      ],
      "execution_count": 2,
      "outputs": [
        {
          "output_type": "stream",
          "text": [
            "0 1 2 3 4 5 6 7 8 9\n"
          ],
          "name": "stdout"
        }
      ]
    },
    {
      "cell_type": "code",
      "metadata": {
        "colab": {
          "base_uri": "https://localhost:8080/"
        },
        "id": "jt_d23KR9KVy",
        "outputId": "03da4788-e7b6-4966-b8b6-a1acb3d2889a"
      },
      "source": [
        "#[0,2,4,6,8]\n",
        "f=range(0,9,2)\n",
        "print(f[0],f[1],f[2],f[3],f[4])"
      ],
      "execution_count": 3,
      "outputs": [
        {
          "output_type": "stream",
          "text": [
            "0 2 4 6 8\n"
          ],
          "name": "stdout"
        }
      ]
    },
    {
      "cell_type": "code",
      "metadata": {
        "colab": {
          "base_uri": "https://localhost:8080/"
        },
        "id": "9sF3RYSr9Vvh",
        "outputId": "1136563c-07dd-444b-a977-e0d3fdec1fa3"
      },
      "source": [
        "#[5,7,9]\n",
        "g=range(5,10,2)\n",
        "print(g[0],g[1],g[2])"
      ],
      "execution_count": 4,
      "outputs": [
        {
          "output_type": "stream",
          "text": [
            "5 7 9\n"
          ],
          "name": "stdout"
        }
      ]
    },
    {
      "cell_type": "code",
      "metadata": {
        "colab": {
          "base_uri": "https://localhost:8080/"
        },
        "id": "ZU8YFbpU9XvM",
        "outputId": "1d9079ed-b3e6-449d-e268-0c5814a0c02f"
      },
      "source": [
        "#[0,-1,-2,-3,-4,-5,-6,-7,-8,-9]\n",
        "h=range(0,-10,-1)\n",
        "print(h[0],h[1],h[2],h[3],h[4],h[5],h[6],h[7],h[8],h[9])"
      ],
      "execution_count": 6,
      "outputs": [
        {
          "output_type": "stream",
          "text": [
            "0 -1 -2 -3 -4 -5 -6 -7 -8 -9\n"
          ],
          "name": "stdout"
        }
      ]
    },
    {
      "cell_type": "markdown",
      "metadata": {
        "id": "z-DIwCIt-3vx"
      },
      "source": [
        "#單元作業"
      ]
    },
    {
      "cell_type": "code",
      "metadata": {
        "id": "Oh5_SrfT-021"
      },
      "source": [
        ""
      ],
      "execution_count": null,
      "outputs": []
    }
  ]
}