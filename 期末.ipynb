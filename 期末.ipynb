{
  "nbformat": 4,
  "nbformat_minor": 0,
  "metadata": {
    "colab": {
      "name": "期末",
      "provenance": [],
      "collapsed_sections": [],
      "authorship_tag": "ABX9TyNx7xRQRCrLyHAEK++lTp4m",
      "include_colab_link": true
    },
    "kernelspec": {
      "name": "python3",
      "display_name": "Python 3"
    }
  },
  "cells": [
    {
      "cell_type": "markdown",
      "metadata": {
        "id": "view-in-github",
        "colab_type": "text"
      },
      "source": [
        "<a href=\"https://colab.research.google.com/github/yuenliao805/Computational-Thinking/blob/master/%E6%9C%9F%E6%9C%AB.ipynb\" target=\"_parent\"><img src=\"https://colab.research.google.com/assets/colab-badge.svg\" alt=\"Open In Colab\"/></a>"
      ]
    },
    {
      "cell_type": "code",
      "metadata": {
        "colab": {
          "base_uri": "https://localhost:8080/"
        },
        "id": "BU-8OQrEqsgf",
        "outputId": "74abdf83-28c1-43c7-d9c9-d0ed1c9d93fb"
      },
      "source": [
        "id_last_digit = input(\"請輸入您身分證字號的尾數:\")\r\n",
        "ans = int(id_last_digit) % 2 == 1\r\n",
        "print(\"身份證尾數除以2的餘數是否為1:\", ans)"
      ],
      "execution_count": null,
      "outputs": [
        {
          "output_type": "stream",
          "text": [
            "請輸入您身分證字號的尾數:3\n",
            "身份證尾數除以2的餘數是否為1: True\n"
          ],
          "name": "stdout"
        }
      ]
    },
    {
      "cell_type": "code",
      "metadata": {
        "id": "Ug2dDoe1vPjG"
      },
      "source": [
        ""
      ],
      "execution_count": null,
      "outputs": []
    },
    {
      "cell_type": "code",
      "metadata": {
        "colab": {
          "base_uri": "https://localhost:8080/"
        },
        "id": "iOXePHgJsnv3",
        "outputId": "34e31c8c-14d6-4565-b725-c084cda5d2c2"
      },
      "source": [
        "#序列主題\r\n",
        "name=input(\"請輸入姓名\")\r\n",
        "print(\"Hi\",name,\"歡迎來到農場\")        \r\n",
        "print(\"我們現在開始來打造你的農場吧!\")"
      ],
      "execution_count": 1,
      "outputs": [
        {
          "output_type": "stream",
          "text": [
            "請輸入姓名jenny\n",
            "Hi jenny 歡迎來到農場\n",
            "我們現在開始來打造你的農場吧!\n"
          ],
          "name": "stdout"
        }
      ]
    },
    {
      "cell_type": "code",
      "metadata": {
        "colab": {
          "base_uri": "https://localhost:8080/"
        },
        "id": "_gWKvL5TvVXa",
        "outputId": "a55342e7-be2e-40d7-bd3a-087c1563c800"
      },
      "source": [
        "print('現在讓我們來種植作物吧!')\r\n",
        "print(\"我們有四種作物依序來種植吧\")\r\n",
        "作物 = [\"種植蓮霧\", \"種植芒果\", \"種植柿子\",\"種植草莓\"]\r\n",
        "for i in 作物: \r\n",
        "   print (i)\r\n",
        "print(\"種子都播種好了，現在要澆水了\")\r\n",
        "\r\n"
      ],
      "execution_count": 13,
      "outputs": [
        {
          "output_type": "stream",
          "text": [
            "現在讓我們來種植作物吧!\n",
            "我們有四種作物依序來種植吧\n",
            "種植蓮霧\n",
            "種植芒果\n",
            "種植柿子\n",
            "種植草莓\n",
            "種子都播種好了，現在要澆水了\n"
          ],
          "name": "stdout"
        }
      ]
    },
    {
      "cell_type": "code",
      "metadata": {
        "id": "0XOUmPMVHowb",
        "outputId": "23dad781-f308-4d88-b9a0-3261e08729fe",
        "colab": {
          "base_uri": "https://localhost:8080/"
        }
      },
      "source": [
        "#賣作物\r\n",
        "print(\"歡迎光臨農場，請問您要買什麼作物？\")\r\n",
        "print(\"我們有 蓮霧、芒果、柿子、草莓．\")\r\n",
        "fruit = input(\"請問您要哪一種:\")\r\n",
        "print(\"好的，為您準備\" +fruit+\".\" )\r\n",
        "quantity=input(\"請問\"+ fruit +\"數量要多少斤？\")\r\n",
        "print(\"好的,為您準備\"+quantity+ \"斤\" +fruit+\".\")\r\n",
        "print(\"謝謝光臨,歡迎下次光臨．\")\r\n",
        "# 季節．蓮霧．芒果．柿子．草莓\r\n",
        "month = input(\"輸入現在月份:\")\r\n",
        "if month == \"三月\" or month == \"四月\":\r\n",
        "   季節 = \"春天\"\r\n",
        "   蓮霧 = True\r\n",
        "   芒果 = False\r\n",
        "   柿子 = False\r\n",
        "   草莓 = False\r\n",
        "elif month == \"六月\" or month == \"七月\":\r\n",
        "     季節 = \"夏天\"\r\n",
        "     蓮霧 = False\r\n",
        "     芒果 = True\r\n",
        "     柿子 = False\r\n",
        "     草莓 = False\r\n",
        "elif month == \"九月\" or month == \"十月\":\r\n",
        "     季節 = \"秋天\"\r\n",
        "     蓮霧 = False\r\n",
        "     芒果 = False\r\n",
        "     柿子 = True\r\n",
        "     草莓 = False\r\n",
        "elif month == \"十二月\" or month == \"一月\":\r\n",
        "     季節 = \"冬天\"\r\n",
        "     蓮霧 = False\r\n",
        "     芒果 = False\r\n",
        "     柿子 = False\r\n",
        "     草莓 = True\r\n",
        "else :\r\n",
        "     季節 = \"無賣作物\"\r\n",
        "     蓮霧 = False\r\n",
        "     芒果 = False\r\n",
        "     柿子 = False\r\n"
      ],
      "execution_count": 14,
      "outputs": [
        {
          "output_type": "stream",
          "text": [
            "歡迎光臨農場，請問您要買什麼作物？\n",
            "我們有 蓮霧、芒果、柿子、草莓．\n",
            "請問您要哪一種:芒果\n",
            "好的，為您準備芒果.\n",
            "請問芒果數量要多少斤？50\n",
            "好的,為您準備50斤芒果.\n",
            "謝謝光臨,歡迎下次光臨．\n",
            "輸入現在月份:5\n"
          ],
          "name": "stdout"
        }
      ]
    }
  ]
}