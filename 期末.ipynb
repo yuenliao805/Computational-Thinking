{
  "nbformat": 4,
  "nbformat_minor": 0,
  "metadata": {
    "colab": {
      "name": "期末",
      "provenance": [],
      "collapsed_sections": [],
      "authorship_tag": "ABX9TyNI0bbNshLHvuhdnzpx5Xb0",
      "include_colab_link": true
    },
    "kernelspec": {
      "name": "python3",
      "display_name": "Python 3"
    }
  },
  "cells": [
    {
      "cell_type": "markdown",
      "metadata": {
        "id": "view-in-github",
        "colab_type": "text"
      },
      "source": [
        "<a href=\"https://colab.research.google.com/github/yuenliao805/Computational-Thinking/blob/master/%E6%9C%9F%E6%9C%AB.ipynb\" target=\"_parent\"><img src=\"https://colab.research.google.com/assets/colab-badge.svg\" alt=\"Open In Colab\"/></a>"
      ]
    },
    {
      "cell_type": "code",
      "metadata": {
        "id": "K7evjNVpnQ2k"
      },
      "source": [
        ""
      ],
      "execution_count": null,
      "outputs": []
    },
    {
      "cell_type": "code",
      "metadata": {
        "id": "Ug2dDoe1vPjG"
      },
      "source": [
        ""
      ],
      "execution_count": null,
      "outputs": []
    },
    {
      "cell_type": "code",
      "metadata": {
        "colab": {
          "base_uri": "https://localhost:8080/"
        },
        "id": "iOXePHgJsnv3",
        "outputId": "34e31c8c-14d6-4565-b725-c084cda5d2c2"
      },
      "source": [
        "#開頭\r\n",
        "name=input(\"請輸入姓名\")\r\n",
        "print(\"Hi\",name,\"歡迎來到農場\")        \r\n",
        "print(\"我們現在開始來打造你的農場吧!\")"
      ],
      "execution_count": null,
      "outputs": [
        {
          "output_type": "stream",
          "text": [
            "請輸入姓名jenny\n",
            "Hi jenny 歡迎來到農場\n",
            "我們現在開始來打造你的農場吧!\n"
          ],
          "name": "stdout"
        }
      ]
    },
    {
      "cell_type": "code",
      "metadata": {
        "colab": {
          "base_uri": "https://localhost:8080/"
        },
        "id": "_gWKvL5TvVXa",
        "outputId": "6dbcbe7b-f50c-42aa-db74-97c648e96bad"
      },
      "source": [
        "#開頭\r\n",
        "name=input(\"請輸入姓名\")\r\n",
        "print(\"Hi\",name,\"歡迎來到農場\")        \r\n",
        "print(\"我們現在開始來打造你的農場吧!\")\r\n",
        "#種作物\r\n",
        "##播種\r\n",
        "print('現在讓我們來種植作物吧!')\r\n",
        "print(\"我們有四種作物依序來種植吧\")\r\n",
        "作物 = [\"種植蓮霧\", \"種植芒果\", \"種植柿子\",\"種植草莓\"]\r\n",
        "for i in 作物: \r\n",
        "   print (i)\r\n",
        "print(\"種子都播種好了，現在要澆水了\")\r\n",
        "##澆水\r\n",
        "num_a=int(input(\"輸入澆水數量?\"))\r\n",
        "if num_a>=5:\r\n",
        "  print(\"達成澆水數量，恭喜玩家種植成功\")\r\n",
        "if num_a<5:\r\n",
        "  print(\"玩家未達成規定澆水量，種植失敗\")\r\n",
        "print(\"農田澆水指引結束\")\r\n",
        "##選擇貨車放貨物\r\n",
        "num_a=int(input(\"輸入貨物量?\"))\r\n",
        "num_b=int(input(\"輸入貨物量?\"))\r\n",
        "if num_a<=10:\r\n",
        "  print(\"a車貨物已安置\")\r\n",
        "if num_a>10:\r\n",
        "  print(\"a車貨物過重，安置失敗\")\r\n",
        "if num_b<=15:\r\n",
        "  print(\"b車貨物已安置\")\r\n",
        "if num_b>15:\r\n",
        "  print(\"b車貨物過重，安置失敗\")\r\n",
        "print(\"兩輛貨車皆放置完畢\")\r\n",
        "\r\n",
        "# 農場打工打工\r\n",
        "print(\"歡迎來到農場打工!\")\r\n",
        "print(\"********************************************\")\r\n",
        "print(\"你現在在動物區。\")\r\n",
        "print(\"你可以選擇一種動物餵食:\")\r\n",
        "print(\"牛(cattle)、豬(pig)、羊(sheep)、雞(hen):\")\r\n",
        "item = input(\"你選擇那個? \") # Question1:想餵什麼動物?\r\n",
        "# 開始農場之旅\r\n",
        "print(\"你看到牛想出柵欄。\") # Question2:牛想散步\r\n",
        "## 農場體驗中選擇\r\n",
        "choice1 = input(\"要讓牛出柵欄嗎? 請輸入 讓 或 不讓: \")\r\n",
        "if choice1 == \"讓\":\r\n",
        "   print(\"你去借鑰匙打開柵欄。\")\r\n",
        "   print(\"農場主人阻止你。\")\r\n",
        "   print(\"再試一次\")\r\n",
        "else:\r\n",
        "   print(\"好主意。你聽了農場主人的話聽了農場主人的話。\")\r\n",
        "   print(\"你沒打開柵欄。\")\r\n",
        "   print(\"你看牛還是想出去!\")\r\n",
        "   print(\"你覺得牛可憐\")\r\n",
        "choice1 = input(\"要讓牛出柵欄嗎? 請輸入 讓 或 不讓: \")\r\n",
        "if choice1 == \"讓\":\r\n",
        "   print(\"你去借鑰匙打開柵欄。\")\r\n",
        "   print(\"農場主人阻止你。\")\r\n",
        "   print(\"繼續努力\")\r\n",
        "else:\r\n",
        "   print(\"好主意。你聽了農場主人的話聽了農場主人的話。\")\r\n",
        "   print(\"你沒打開柵欄。\")\r\n",
        "   print(\"你看牛還是想出去!\")\r\n",
        "   print(\"你覺得牛可憐\")\r\n",
        "# 這行print(\"你覺得牛可憐\")後,加入以下程式碼:\r\n",
        "action = input(\"要借鑰匙還是回去? 選擇借鑰匙或回去: \")\r\n",
        "## 條件選擇與迴圈\r\n",
        "while action == \"借鑰匙借鑰匙\":\r\n",
        "  print(\"主人不借。\")\r\n",
        "  action = input(\"要回去或再借一次鑰匙? 選擇回去或借鑰匙: \")\r\n",
        "print(\"你跟牛玩了會兒,又跑去找農場主人。\")\r\n",
        "print(\"農場主人終於借你鑰匙。\")\r\n",
        "print(\"農場主人請你確認牛隻有沒有回到農舍。\")\r\n",
        "names = [\"Alex\", \"Bob\", \"John\", \"Mary\", \"Emily\"]\r\n",
        "for i in names:\r\n",
        "    print(i)\r\n",
        "print(\"很高興牛都回到農舍\")\r\n",
        "#賣作物\r\n",
        "##販售\r\n",
        "print(\"歡迎光臨農場，請問您要買什麼作物？\")\r\n",
        "print(\"我們有 蓮霧、芒果、柿子、草莓．\")\r\n",
        "fruit = input(\"請問您要哪一種:\")\r\n",
        "print(\"好的，為您準備\" +fruit+\".\" )\r\n",
        "quantity=input(\"請問\"+ fruit +\"數量要多少斤？\")\r\n",
        "print(\"好的,為您準備\"+quantity+ \"斤\" +fruit+\".\")\r\n",
        "print(\"謝謝光臨,歡迎下次光臨．\")\r\n",
        "## 季節．蓮霧．芒果．柿子．草莓\r\n",
        "month = input(\"輸入現在月份:\")\r\n",
        "if month == \"三月\" or month == \"四月\":\r\n",
        "   季節 = \"春天\"\r\n",
        "   蓮霧 = True\r\n",
        "   芒果 = False\r\n",
        "   柿子 = False\r\n",
        "   草莓 = False\r\n",
        "elif month == \"六月\" or month == \"七月\":\r\n",
        "     季節 = \"夏天\"\r\n",
        "     蓮霧 = False\r\n",
        "     芒果 = True\r\n",
        "     柿子 = False\r\n",
        "     草莓 = False\r\n",
        "elif month == \"九月\" or month == \"十月\":\r\n",
        "     季節 = \"秋天\"\r\n",
        "     蓮霧 = False\r\n",
        "     芒果 = False\r\n",
        "     柿子 = True\r\n",
        "     草莓 = False\r\n",
        "elif month == \"十二月\" or month == \"一月\":\r\n",
        "     季節 = \"冬天\"\r\n",
        "     蓮霧 = False\r\n",
        "     芒果 = False\r\n",
        "     柿子 = False\r\n",
        "     草莓 = True\r\n",
        "else :\r\n",
        "     季節 = \"無賣作物\"\r\n",
        "     蓮霧 = False\r\n",
        "     芒果 = False\r\n",
        "     柿子 = False\r\n",
        "\r\n"
      ],
      "execution_count": 13,
      "outputs": [
        {
          "output_type": "stream",
          "text": [
            "請輸入姓名aaa\n",
            "Hi aaa 歡迎來到農場\n",
            "我們現在開始來打造你的農場吧!\n",
            "現在讓我們來種植作物吧!\n",
            "我們有四種作物依序來種植吧\n",
            "種植蓮霧\n",
            "種植芒果\n",
            "種植柿子\n",
            "種植草莓\n",
            "種子都播種好了，現在要澆水了\n",
            "輸入澆水數量?50\n",
            "達成澆水數量，恭喜玩家種植成功\n",
            "農田澆水指引結束\n",
            "輸入貨物量?80\n",
            "輸入貨物量?10\n",
            "a車貨物過重，安置失敗\n",
            "b車貨物已安置\n",
            "兩輛貨車皆放置完畢\n",
            "歡迎來到農場打工!\n",
            "********************************************\n",
            "你現在在動物區。\n",
            "你可以選擇一種動物餵食:\n",
            "牛(cattle)、豬(pig)、羊(sheep)、雞(hen):\n",
            "你選擇那個? 豬\n",
            "你看到牛想出柵欄。\n",
            "要讓牛出柵欄嗎? 請輸入 讓 或 不讓: 讓\n",
            "你去借鑰匙打開柵欄。\n",
            "農場主人阻止你。\n",
            "再試一次\n",
            "要讓牛出柵欄嗎? 請輸入 讓 或 不讓: 不讓\n",
            "好主意。你聽了農場主人的話聽了農場主人的話。\n",
            "你沒打開柵欄。\n",
            "你看牛還是想出去!\n",
            "你覺得牛可憐\n",
            "要借鑰匙還是回去? 選擇借鑰匙或回去: 回去\n",
            "你跟牛玩了會兒,又跑去找農場主人。\n",
            "農場主人終於借你鑰匙。\n",
            "農場主人請你確認牛隻有沒有回到農舍。\n",
            "Alex\n",
            "Bob\n",
            "John\n",
            "Mary\n",
            "Emily\n",
            "很高興牛都回到農舍\n",
            "歡迎光臨農場，請問您要買什麼作物？\n",
            "我們有 蓮霧、芒果、柿子、草莓．\n",
            "請問您要哪一種:芒果\n",
            "好的，為您準備芒果.\n",
            "請問芒果數量要多少斤？50\n",
            "好的,為您準備50斤芒果.\n",
            "謝謝光臨,歡迎下次光臨．\n",
            "輸入現在月份:一月\n"
          ],
          "name": "stdout"
        }
      ]
    }
  ]
}