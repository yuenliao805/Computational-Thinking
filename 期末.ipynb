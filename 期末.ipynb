{
  "nbformat": 4,
  "nbformat_minor": 0,
  "metadata": {
    "colab": {
      "name": "期末",
      "provenance": [],
      "collapsed_sections": [],
      "authorship_tag": "ABX9TyPSP9feUuxPszfyaWAM7PbC",
      "include_colab_link": true
    },
    "kernelspec": {
      "name": "python3",
      "display_name": "Python 3"
    }
  },
  "cells": [
    {
      "cell_type": "markdown",
      "metadata": {
        "id": "view-in-github",
        "colab_type": "text"
      },
      "source": [
        "<a href=\"https://colab.research.google.com/github/yuenliao805/Computational-Thinking/blob/master/%E6%9C%9F%E6%9C%AB.ipynb\" target=\"_parent\"><img src=\"https://colab.research.google.com/assets/colab-badge.svg\" alt=\"Open In Colab\"/></a>"
      ]
    },
    {
      "cell_type": "code",
      "metadata": {
        "colab": {
          "base_uri": "https://localhost:8080/"
        },
        "id": "BU-8OQrEqsgf",
        "outputId": "74abdf83-28c1-43c7-d9c9-d0ed1c9d93fb"
      },
      "source": [
        "id_last_digit = input(\"請輸入您身分證字號的尾數:\")\r\n",
        "ans = int(id_last_digit) % 2 == 1\r\n",
        "print(\"身份證尾數除以2的餘數是否為1:\", ans)"
      ],
      "execution_count": 6,
      "outputs": [
        {
          "output_type": "stream",
          "text": [
            "請輸入您身分證字號的尾數:3\n",
            "身份證尾數除以2的餘數是否為1: True\n"
          ],
          "name": "stdout"
        }
      ]
    },
    {
      "cell_type": "code",
      "metadata": {
        "id": "Ug2dDoe1vPjG"
      },
      "source": [
        ""
      ],
      "execution_count": null,
      "outputs": []
    },
    {
      "cell_type": "code",
      "metadata": {
        "colab": {
          "base_uri": "https://localhost:8080/"
        },
        "id": "iOXePHgJsnv3",
        "outputId": "2c8b4fbb-23bd-4946-cbfb-5f8e1f16929b"
      },
      "source": [
        "#序列主題\r\n",
        "name=input(\"請輸入姓名\")\r\n",
        "print(\"Hi\",name,\"歡迎來到農場\")        \r\n",
        "print(\"我們現在開始來打造你的農場吧!\")"
      ],
      "execution_count": null,
      "outputs": [
        {
          "output_type": "stream",
          "text": [
            "請輸入姓名2\n",
            "Hi 2 歡迎來到農場\n",
            "我們現在開始來打造你的農場吧!\n"
          ],
          "name": "stdout"
        }
      ]
    },
    {
      "cell_type": "code",
      "metadata": {
        "colab": {
          "base_uri": "https://localhost:8080/"
        },
        "id": "_gWKvL5TvVXa",
        "outputId": "702d94ed-779a-405e-ed5f-301db10313fc"
      },
      "source": [
        "print('現在讓我們來種植作物吧!')\r\n",
        "作物 = ['西瓜', '稻米', '豆子']\r\n",
        "for index in [0,1,2]: \r\n",
        "   print (index, 作物[index])\r\n",
        "種植作物=input(\"請輸入作物代碼\")\r\n"
      ],
      "execution_count": 17,
      "outputs": [
        {
          "output_type": "stream",
          "text": [
            "現在讓我們來種植作物吧!\n",
            "0 西瓜\n",
            "1 稻米\n",
            "2 豆子\n",
            "請輸入作物代碼0\n"
          ],
          "name": "stdout"
        }
      ]
    },
    {
      "cell_type": "code",
      "metadata": {
        "id": "rYvdRqDvy0SA"
      },
      "source": [
        ""
      ],
      "execution_count": null,
      "outputs": []
    }
  ]
}