{
  "nbformat": 4,
  "nbformat_minor": 0,
  "metadata": {
    "colab": {
      "name": "week-10-2.ipynb",
      "provenance": [],
      "authorship_tag": "ABX9TyNVVT8LzbWUSV6S/XR0ZKdE",
      "include_colab_link": true
    },
    "kernelspec": {
      "name": "python3",
      "display_name": "Python 3"
    }
  },
  "cells": [
    {
      "cell_type": "markdown",
      "metadata": {
        "id": "view-in-github",
        "colab_type": "text"
      },
      "source": [
        "<a href=\"https://colab.research.google.com/github/yuenliao805/Computational-Thinking/blob/master/week_10_2.ipynb\" target=\"_parent\"><img src=\"https://colab.research.google.com/assets/colab-badge.svg\" alt=\"Open In Colab\"/></a>"
      ]
    },
    {
      "cell_type": "code",
      "metadata": {
        "colab": {
          "base_uri": "https://localhost:8080/"
        },
        "id": "or_sEfPNc8XN",
        "outputId": "bbd9c230-a536-4413-f0e8-bea59b5b4e57"
      },
      "source": [
        "\n",
        "time=123\n",
        "\n",
        "hour=time//60#商數\n",
        "minute=time%60#餘數\n",
        "\n",
        "\n",
        "print(time,\"是\",hour,\"小時\",minute,\"分鐘\")\n",
        "\n"
      ],
      "execution_count": null,
      "outputs": [
        {
          "output_type": "stream",
          "text": [
            "123 是 2 小時 3 分鐘\n"
          ],
          "name": "stdout"
        }
      ]
    },
    {
      "cell_type": "code",
      "metadata": {
        "id": "jdIa4HiAh0pE",
        "outputId": "a4845f43-8259-484f-a77a-a615f9f12b80",
        "colab": {
          "base_uri": "https://localhost:8080/"
        }
      },
      "source": [
        "#商數餘數\n",
        "##input\n",
        "seat=int(input(\"enter a seat number?\"))\n",
        "##process\n",
        "group=(seat-1)//5+1\n",
        "##output\n",
        "print(\"group is\",group)"
      ],
      "execution_count": 1,
      "outputs": [
        {
          "output_type": "stream",
          "text": [
            "enter a seat number?26\n",
            "group is 6\n"
          ],
          "name": "stdout"
        }
      ]
    }
  ]
}