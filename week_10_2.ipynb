{
  "nbformat": 4,
  "nbformat_minor": 0,
  "metadata": {
    "colab": {
      "name": "week-10-2.ipynb",
      "provenance": [],
      "authorship_tag": "ABX9TyOM+VKvvEZJGiEgoap12lBR",
      "include_colab_link": true
    },
    "kernelspec": {
      "name": "python3",
      "display_name": "Python 3"
    }
  },
  "cells": [
    {
      "cell_type": "markdown",
      "metadata": {
        "id": "view-in-github",
        "colab_type": "text"
      },
      "source": [
        "<a href=\"https://colab.research.google.com/github/yuenliao805/Computational-Thinking/blob/master/week_10_2.ipynb\" target=\"_parent\"><img src=\"https://colab.research.google.com/assets/colab-badge.svg\" alt=\"Open In Colab\"/></a>"
      ]
    },
    {
      "cell_type": "code",
      "metadata": {
        "colab": {
          "base_uri": "https://localhost:8080/"
        },
        "id": "or_sEfPNc8XN",
        "outputId": "bbd9c230-a536-4413-f0e8-bea59b5b4e57"
      },
      "source": [
        "\n",
        "time=123\n",
        "\n",
        "hour=time//60#商數\n",
        "minute=time%60#餘數\n",
        "\n",
        "\n",
        "print(time,\"是\",hour,\"小時\",minute,\"分鐘\")\n",
        "\n"
      ],
      "execution_count": 2,
      "outputs": [
        {
          "output_type": "stream",
          "text": [
            "123 是 2 小時 3 分鐘\n"
          ],
          "name": "stdout"
        }
      ]
    },
    {
      "cell_type": "code",
      "metadata": {
        "id": "jdIa4HiAh0pE"
      },
      "source": [
        ""
      ],
      "execution_count": null,
      "outputs": []
    }
  ]
}