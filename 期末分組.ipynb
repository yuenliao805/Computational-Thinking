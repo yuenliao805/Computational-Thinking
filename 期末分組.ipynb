{
  "nbformat": 4,
  "nbformat_minor": 0,
  "metadata": {
    "colab": {
      "name": "期末分組.ipynb",
      "provenance": [],
      "authorship_tag": "ABX9TyNVfK6Wa/3xpLb1vsDlewdC",
      "include_colab_link": true
    },
    "kernelspec": {
      "name": "python3",
      "display_name": "Python 3"
    }
  },
  "cells": [
    {
      "cell_type": "markdown",
      "metadata": {
        "id": "view-in-github",
        "colab_type": "text"
      },
      "source": [
        "<a href=\"https://colab.research.google.com/github/yuenliao805/Computational-Thinking/blob/master/%E6%9C%9F%E6%9C%AB%E5%88%86%E7%B5%84.ipynb\" target=\"_parent\"><img src=\"https://colab.research.google.com/assets/colab-badge.svg\" alt=\"Open In Colab\"/></a>"
      ]
    },
    {
      "cell_type": "code",
      "metadata": {
        "id": "Oh5_SrfT-021"
      },
      "source": [
        "project_title=農場 \n",
        "name_list=     楊雅婷   洪嫚君   高明倫   黃新雅   鍾艿蓁   廖妤恩   楊采穎    蘇雯雅\n",
        "number_list=A109260091 A109260031 A109260003 C105140209 A109260005 A109260067 A109260087  A109260105\n",
        "duty_list=廖妤恩 A109260067\n",
        "load_list=買土地:黃新雅 C105140209  蘇雯雅 A109260105\n",
        "     種作物:高明倫 A109260003  廖妤恩 A109260067\n",
        "     養動物:楊雅婷 A109260091  洪嫚君 A109260031\n",
        "     賣作物:鍾艿蓁 A109260005  楊采穎 A109260087\n",
        "\n",
        "\n"
      ],
      "execution_count": null,
      "outputs": []
    }
  ]
}