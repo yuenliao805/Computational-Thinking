{
  "nbformat": 4,
  "nbformat_minor": 0,
  "metadata": {
    "colab": {
      "name": "Untitled2.ipynb",
      "provenance": [],
      "authorship_tag": "ABX9TyOU8k3TdhpBbJsv91W+YeIN",
      "include_colab_link": true
    },
    "kernelspec": {
      "name": "python3",
      "display_name": "Python 3"
    }
  },
  "cells": [
    {
      "cell_type": "markdown",
      "metadata": {
        "id": "view-in-github",
        "colab_type": "text"
      },
      "source": [
        "<a href=\"https://colab.research.google.com/github/yuenliao805/Computational-Thinking/blob/master/Untitled2.ipynb\" target=\"_parent\"><img src=\"https://colab.research.google.com/assets/colab-badge.svg\" alt=\"Open In Colab\"/></a>"
      ]
    },
    {
      "cell_type": "markdown",
      "metadata": {
        "id": "NLPnUaWct1F3"
      },
      "source": [
        "隨堂練習三"
      ]
    },
    {
      "cell_type": "code",
      "metadata": {
        "colab": {
          "base_uri": "https://localhost:8080/"
        },
        "id": "RIiT-TCZswIO",
        "outputId": "bb56aec4-ba46-4ac8-998f-c5b574aae959"
      },
      "source": [
        "#range指令練習\n",
        "#[0,1,2,3,4]\n",
        "a=range(5) #range(0,5,1),range(0,5)\n",
        "print(a)\n",
        "\n",
        "print(a[0],a[1],a[2],a[3],a[4])"
      ],
      "execution_count": 6,
      "outputs": [
        {
          "output_type": "stream",
          "text": [
            "range(0, 5)\n",
            "0 1 2 3 4\n"
          ],
          "name": "stdout"
        }
      ]
    },
    {
      "cell_type": "code",
      "metadata": {
        "colab": {
          "base_uri": "https://localhost:8080/"
        },
        "id": "lrdFWwOiubvF",
        "outputId": "2aa7a843-1fac-45db-c241-990192777128"
      },
      "source": [
        "#[2,3,4,5]\n",
        "b=range(2,6)#range(2,6,1)\n",
        "print(b[0],b[1],b[2],b[3])"
      ],
      "execution_count": 3,
      "outputs": [
        {
          "output_type": "stream",
          "text": [
            "2 3 4 5\n"
          ],
          "name": "stdout"
        }
      ]
    },
    {
      "cell_type": "code",
      "metadata": {
        "colab": {
          "base_uri": "https://localhost:8080/"
        },
        "id": "RDoeAq0Hu8rL",
        "outputId": "401f9cc0-f95a-4299-a27d-4591f6be3db7"
      },
      "source": [
        "#[2,5,8]\n",
        "c=range(2,10,3)\n",
        "print(c[0],c[1],c[2])"
      ],
      "execution_count": 4,
      "outputs": [
        {
          "output_type": "stream",
          "text": [
            "2 5 8\n"
          ],
          "name": "stdout"
        }
      ]
    },
    {
      "cell_type": "code",
      "metadata": {
        "colab": {
          "base_uri": "https://localhost:8080/"
        },
        "id": "hsMnCE3Bvpaf",
        "outputId": "1b1114ca-e2dd-4b44-c24a-4d4019b08b5a"
      },
      "source": [
        "#[10,8,6,4]\n",
        "d=range(10,3,-2)\n",
        "print(d[0],d[1],d[2],d[3])"
      ],
      "execution_count": 7,
      "outputs": [
        {
          "output_type": "stream",
          "text": [
            "10 8 6 4\n"
          ],
          "name": "stdout"
        }
      ]
    },
    {
      "cell_type": "code",
      "metadata": {
        "id": "bNhl5RUhwNuu"
      },
      "source": [
        "#[0,1,2,3,4,5,6,7,8,9]\n",
        "e=range(0,10,1)\n",
        "print(e[0])"
      ],
      "execution_count": null,
      "outputs": []
    }
  ]
}