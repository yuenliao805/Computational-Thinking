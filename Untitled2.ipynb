{
  "nbformat": 4,
  "nbformat_minor": 0,
  "metadata": {
    "colab": {
      "name": "Untitled2.ipynb",
      "provenance": [],
      "authorship_tag": "ABX9TyPTNFbLov3PU6Ap4gjlz0Q/",
      "include_colab_link": true
    },
    "kernelspec": {
      "display_name": "Python 3",
      "name": "python3"
    }
  },
  "cells": [
    {
      "cell_type": "markdown",
      "metadata": {
        "id": "view-in-github",
        "colab_type": "text"
      },
      "source": [
        "<a href=\"https://colab.research.google.com/github/yuenliao805/Computational-Thinking/blob/master/Untitled2.ipynb\" target=\"_parent\"><img src=\"https://colab.research.google.com/assets/colab-badge.svg\" alt=\"Open In Colab\"/></a>"
      ]
    },
    {
      "cell_type": "code",
      "metadata": {
        "colab": {
          "base_uri": "https://localhost:8080/"
        },
        "id": "mx5Dfh4gmvIi",
        "outputId": "09529076-92c3-49b5-8886-c44e49376523"
      },
      "source": [
        "###方法(二);文字串列列印\r\n",
        "sheet=[\"牛奶\",\"蛋\",\"咖啡豆\"]\r\n",
        "for index in[0,1,2]:\r\n",
        "  print(index,sheet[index])"
      ],
      "execution_count": null,
      "outputs": [
        {
          "output_type": "stream",
          "text": [
            "0 牛奶\n",
            "1 蛋\n",
            "2 咖啡豆\n"
          ],
          "name": "stdout"
        }
      ]
    },
    {
      "cell_type": "code",
      "metadata": {
        "colab": {
          "background_save": true,
          "base_uri": "https://localhost:8080/",
          "height": 199
        },
        "id": "6IHuqTIOnAF3",
        "outputId": "6ed27cbb-2a12-424c-8581-e890c1d38c39"
      },
      "source": [
        "people=[\"Mario\",\"Peach\",\"Luigi\",\"Daisy\",\"Yoshi\"]\r\n",
        "dessert=[\"Star Pudding\",\"Peach Pie\",\"Popsicles\",\"Honey Cake\",\"Cookies\",\"jelly Beans\"]\r\n",
        "for index in[\"Star Pudding\",\"Peach Pie\",\"Popsicles\",\"Honey Cake\",\"Cookies\",\"jelly Beans\"]:\r\n",
        "  print(index,people[dessert])"
      ],
      "execution_count": null,
      "outputs": [
        {
          "output_type": "error",
          "ename": "TypeError",
          "evalue": "ignored",
          "traceback": [
            "\u001b[0;31m---------------------------------------------------------------------------\u001b[0m",
            "\u001b[0;31mTypeError\u001b[0m                                 Traceback (most recent call last)",
            "\u001b[0;32m<ipython-input-5-cfef58ec8243>\u001b[0m in \u001b[0;36m<module>\u001b[0;34m()\u001b[0m\n\u001b[1;32m      2\u001b[0m \u001b[0mdessert\u001b[0m\u001b[0;34m=\u001b[0m\u001b[0;34m[\u001b[0m\u001b[0;34m\"Star Pudding\"\u001b[0m\u001b[0;34m,\u001b[0m\u001b[0;34m\"Peach Pie\"\u001b[0m\u001b[0;34m,\u001b[0m\u001b[0;34m\"Popsicles\"\u001b[0m\u001b[0;34m,\u001b[0m\u001b[0;34m\"Honey Cake\"\u001b[0m\u001b[0;34m,\u001b[0m\u001b[0;34m\"Cookies\"\u001b[0m\u001b[0;34m,\u001b[0m\u001b[0;34m\"jelly Beans\"\u001b[0m\u001b[0;34m]\u001b[0m\u001b[0;34m\u001b[0m\u001b[0;34m\u001b[0m\u001b[0m\n\u001b[1;32m      3\u001b[0m \u001b[0;32mfor\u001b[0m \u001b[0mindex\u001b[0m \u001b[0;32min\u001b[0m\u001b[0;34m[\u001b[0m\u001b[0;34m\"Star Pudding\"\u001b[0m\u001b[0;34m,\u001b[0m\u001b[0;34m\"Peach Pie\"\u001b[0m\u001b[0;34m,\u001b[0m\u001b[0;34m\"Popsicles\"\u001b[0m\u001b[0;34m,\u001b[0m\u001b[0;34m\"Honey Cake\"\u001b[0m\u001b[0;34m,\u001b[0m\u001b[0;34m\"Cookies\"\u001b[0m\u001b[0;34m,\u001b[0m\u001b[0;34m\"jelly Beans\"\u001b[0m\u001b[0;34m]\u001b[0m\u001b[0;34m:\u001b[0m\u001b[0;34m\u001b[0m\u001b[0;34m\u001b[0m\u001b[0m\n\u001b[0;32m----> 4\u001b[0;31m   \u001b[0mprint\u001b[0m\u001b[0;34m(\u001b[0m\u001b[0mindex\u001b[0m\u001b[0;34m,\u001b[0m\u001b[0mpeople\u001b[0m\u001b[0;34m[\u001b[0m\u001b[0mdessert\u001b[0m\u001b[0;34m]\u001b[0m\u001b[0;34m)\u001b[0m\u001b[0;34m\u001b[0m\u001b[0;34m\u001b[0m\u001b[0m\n\u001b[0m",
            "\u001b[0;31mTypeError\u001b[0m: list indices must be integers or slices, not list"
          ]
        }
      ]
    }
  ]
}