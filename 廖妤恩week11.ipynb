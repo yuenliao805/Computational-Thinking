{
  "nbformat": 4,
  "nbformat_minor": 0,
  "metadata": {
    "colab": {
      "name": "廖妤恩week11.ipynb",
      "provenance": [],
      "authorship_tag": "ABX9TyM9FhHj76Xa09i+out2/y5n",
      "include_colab_link": true
    },
    "kernelspec": {
      "name": "python3",
      "display_name": "Python 3"
    }
  },
  "cells": [
    {
      "cell_type": "markdown",
      "metadata": {
        "id": "view-in-github",
        "colab_type": "text"
      },
      "source": [
        "<a href=\"https://colab.research.google.com/github/yuenliao805/Computational-Thinking/blob/master/%E5%BB%96%E5%A6%A4%E6%81%A9week11.ipynb\" target=\"_parent\"><img src=\"https://colab.research.google.com/assets/colab-badge.svg\" alt=\"Open In Colab\"/></a>"
      ]
    },
    {
      "cell_type": "code",
      "metadata": {
        "id": "Fj-GVSZSb0A1"
      },
      "source": [
        "分組"
      ],
      "execution_count": null,
      "outputs": []
    },
    {
      "cell_type": "code",
      "metadata": {
        "colab": {
          "base_uri": "https://localhost:8080/"
        },
        "id": "ZbcwnxMhb3-c",
        "outputId": "dc0faa86-21aa-4c6e-a1a6-2688a26b8fc4"
      },
      "source": [
        "#商數餘數\n",
        "##input\n",
        "seat=int(input(\"enter a seat number?\"))\n",
        "##process\n",
        "group=(seat-1)//5+1\n",
        "##output\n",
        "print(\"group is\",group)"
      ],
      "execution_count": 8,
      "outputs": [
        {
          "output_type": "stream",
          "text": [
            "enter a seat number?24\n",
            "group is 5\n"
          ],
          "name": "stdout"
        }
      ]
    },
    {
      "cell_type": "code",
      "metadata": {
        "colab": {
          "base_uri": "https://localhost:8080/"
        },
        "id": "UhPfuYVdeSpY",
        "outputId": "bd7c394d-76ac-49ac-ad04-d92638104652"
      },
      "source": [
        "number=int(input(\"enter a number?\"))\n",
        "if number%5==0:\n",
        "  print(\"group is\",number//5)\n",
        "else:\n",
        "  print(\"group is\",number//5+1)\n",
        "        "
      ],
      "execution_count": 5,
      "outputs": [
        {
          "output_type": "stream",
          "text": [
            "enter a number?24\n",
            "group is 5\n"
          ],
          "name": "stdout"
        }
      ]
    },
    {
      "cell_type": "code",
      "metadata": {
        "colab": {
          "base_uri": "https://localhost:8080/"
        },
        "id": "iY6ki90idAsW",
        "outputId": "8e4fecc6-5a46-43fc-dfb2-d9e0b9e37c84"
      },
      "source": [
        "#四捨五入 無條件進位\n",
        "seat=int(input(\"enter a seat number?\"))\n",
        "import math\n",
        "group=math.ceil(seat/5)\n",
        "print(\"group is\",group)"
      ],
      "execution_count": 12,
      "outputs": [
        {
          "output_type": "stream",
          "text": [
            "enter a seat number?24\n",
            "group is 5\n"
          ],
          "name": "stdout"
        }
      ]
    }
  ]
}