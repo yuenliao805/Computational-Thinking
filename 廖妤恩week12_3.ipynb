{
  "nbformat": 4,
  "nbformat_minor": 0,
  "metadata": {
    "colab": {
      "name": "廖妤恩week12-3.ipynb",
      "provenance": [],
      "authorship_tag": "ABX9TyM3V4YQyZjBV15BSuJi6DBo",
      "include_colab_link": true
    },
    "kernelspec": {
      "name": "python3",
      "display_name": "Python 3"
    }
  },
  "cells": [
    {
      "cell_type": "markdown",
      "metadata": {
        "id": "view-in-github",
        "colab_type": "text"
      },
      "source": [
        "<a href=\"https://colab.research.google.com/github/yuenliao805/Computational-Thinking/blob/master/%E5%BB%96%E5%A6%A4%E6%81%A9week12_3.ipynb\" target=\"_parent\"><img src=\"https://colab.research.google.com/assets/colab-badge.svg\" alt=\"Open In Colab\"/></a>"
      ]
    },
    {
      "cell_type": "markdown",
      "metadata": {
        "id": "ovPe2ZWlFyGJ"
      },
      "source": [
        "隨堂練習三"
      ]
    },
    {
      "cell_type": "code",
      "metadata": {
        "colab": {
          "base_uri": "https://localhost:8080/"
        },
        "id": "nXCepaINF5wF",
        "outputId": "a92d805f-db6b-482d-8bda-033d08d872f8"
      },
      "source": [
        "#range指令練習\r\n",
        "#[0,1,2,3,4]\r\n",
        "a=range(5) #range(0,5,1),range(0,5)\r\n",
        "print(a)\r\n",
        "\r\n",
        "print(a[0],a[1],a[2],a[3],a[4])"
      ],
      "execution_count": 1,
      "outputs": [
        {
          "output_type": "stream",
          "text": [
            "range(0, 5)\n",
            "0 1 2 3 4\n"
          ],
          "name": "stdout"
        }
      ]
    },
    {
      "cell_type": "code",
      "metadata": {
        "colab": {
          "base_uri": "https://localhost:8080/"
        },
        "id": "FWyXIgudF_z3",
        "outputId": "52347ff4-f1ac-4e61-b633-c800cb81b735"
      },
      "source": [
        "#[2,3,4,5]\r\n",
        "b=range(2,6)#range(2,6,1)\r\n",
        "print(b[0],b[1],b[2],b[3])"
      ],
      "execution_count": 2,
      "outputs": [
        {
          "output_type": "stream",
          "text": [
            "2 3 4 5\n"
          ],
          "name": "stdout"
        }
      ]
    },
    {
      "cell_type": "code",
      "metadata": {
        "colab": {
          "base_uri": "https://localhost:8080/"
        },
        "id": "cbgBF8p9GEF7",
        "outputId": "0f69280b-4afa-476b-cc15-d04ec05bfa78"
      },
      "source": [
        "#[2,5,8]\r\n",
        "c=range(2,10,3)\r\n",
        "print(c[0],c[1],c[2])"
      ],
      "execution_count": 3,
      "outputs": [
        {
          "output_type": "stream",
          "text": [
            "2 5 8\n"
          ],
          "name": "stdout"
        }
      ]
    },
    {
      "cell_type": "code",
      "metadata": {
        "colab": {
          "base_uri": "https://localhost:8080/"
        },
        "id": "2akb9WWqGK4i",
        "outputId": "e398802c-bba2-4da2-d772-dbd25290ed10"
      },
      "source": [
        "#[10,8,6,4]\r\n",
        "d=range(10,3,-2)\r\n",
        "print(d[0],d[1],d[2],d[3])\r\n"
      ],
      "execution_count": 4,
      "outputs": [
        {
          "output_type": "stream",
          "text": [
            "10 8 6 4\n"
          ],
          "name": "stdout"
        }
      ]
    },
    {
      "cell_type": "code",
      "metadata": {
        "colab": {
          "base_uri": "https://localhost:8080/"
        },
        "id": "lgItjsuYGQJc",
        "outputId": "a6f28d18-66d8-497f-ca29-d3ffa3482cb0"
      },
      "source": [
        "#[0,1,2,3,4,5,6,7,8,9]\r\n",
        "e=range(0,10,1)\r\n",
        "print(e[0],e[1],e[2],e[3],e[4],e[5],e[6],e[7],e[8],e[9])"
      ],
      "execution_count": 9,
      "outputs": [
        {
          "output_type": "stream",
          "text": [
            "0 1 2 3 4 5 6 7 8 9\n"
          ],
          "name": "stdout"
        }
      ]
    }
  ]
}