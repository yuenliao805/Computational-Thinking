{
  "nbformat": 4,
  "nbformat_minor": 0,
  "metadata": {
    "colab": {
      "name": "廖妤恩-week9-1.ipynb",
      "provenance": [],
      "authorship_tag": "ABX9TyOPxXdhUWbbR70Tnv7f3xAu",
      "include_colab_link": true
    },
    "kernelspec": {
      "name": "python3",
      "display_name": "Python 3"
    }
  },
  "cells": [
    {
      "cell_type": "markdown",
      "metadata": {
        "id": "view-in-github",
        "colab_type": "text"
      },
      "source": [
        "<a href=\"https://colab.research.google.com/github/yuenliao805/Computational-Thinking/blob/master/%E5%BB%96%E5%A6%A4%E6%81%A9_week9_1.ipynb\" target=\"_parent\"><img src=\"https://colab.research.google.com/assets/colab-badge.svg\" alt=\"Open In Colab\"/></a>"
      ]
    },
    {
      "cell_type": "code",
      "metadata": {
        "id": "Ax0mCuvDZUgW",
        "outputId": "aaf7e480-6b21-4bdd-daa9-f527fc748a78",
        "colab": {
          "base_uri": "https://localhost:8080/"
        }
      },
      "source": [
        "# 變數賦值\n",
        "x=2\n",
        "y=5\n",
        "## 等號的左邊有什麼規定\n",
        "## 等號的右邊有什麼規定\n",
        "## 等號可以做什麼\n",
        "\n",
        "# 數字資料做運算\n",
        "## 加減乘除 商數餘數次方\n",
        "## 運算順序\n",
        "print(x+y)\n",
        "print(x-y)\n",
        "print(x*y)\n",
        "print(x/y)\n",
        "print(x//y)\n",
        "print(x%y)\n",
        "print(x**y)\n",
        "\n"
      ],
      "execution_count": 1,
      "outputs": [
        {
          "output_type": "stream",
          "text": [
            "7\n",
            "-3\n",
            "10\n",
            "0.4\n",
            "0\n",
            "2\n",
            "32\n"
          ],
          "name": "stdout"
        }
      ]
    },
    {
      "cell_type": "code",
      "metadata": {
        "id": "f-ESQ_S0Zijb",
        "outputId": "8fbadefd-9ce0-4cf3-d9c2-6a4dbf3c50cc",
        "colab": {
          "base_uri": "https://localhost:8080/",
          "height": 52
        }
      },
      "source": [
        "#標準輸入輸出\n",
        "## input()函數\n",
        "## print()函數\n",
        "input()"
      ],
      "execution_count": 3,
      "outputs": [
        {
          "output_type": "stream",
          "text": [
            "3\n"
          ],
          "name": "stdout"
        },
        {
          "output_type": "execute_result",
          "data": {
            "application/vnd.google.colaboratory.intrinsic+json": {
              "type": "string"
            },
            "text/plain": [
              "'3'"
            ]
          },
          "metadata": {
            "tags": []
          },
          "execution_count": 3
        }
      ]
    },
    {
      "cell_type": "code",
      "metadata": {
        "id": "5smm8LuHau9W",
        "outputId": "8087a6c0-d4a7-45c3-b7c2-479bbb146266",
        "colab": {
          "base_uri": "https://localhost:8080/",
          "height": 52
        }
      },
      "source": [
        "input(\"請輸入數字\")\n"
      ],
      "execution_count": 4,
      "outputs": [
        {
          "output_type": "stream",
          "text": [
            "請輸入數字3\n"
          ],
          "name": "stdout"
        },
        {
          "output_type": "execute_result",
          "data": {
            "application/vnd.google.colaboratory.intrinsic+json": {
              "type": "string"
            },
            "text/plain": [
              "'3'"
            ]
          },
          "metadata": {
            "tags": []
          },
          "execution_count": 4
        }
      ]
    },
    {
      "cell_type": "code",
      "metadata": {
        "id": "uBRtzK0Aa59o",
        "outputId": "0e9c63f9-6bb4-4d74-fcbe-df4d327e2c9e",
        "colab": {
          "base_uri": "https://localhost:8080/"
        }
      },
      "source": [
        "x=input(\"請輸入數字\")\n"
      ],
      "execution_count": 6,
      "outputs": [
        {
          "output_type": "stream",
          "text": [
            "請輸入數字3\n"
          ],
          "name": "stdout"
        }
      ]
    },
    {
      "cell_type": "code",
      "metadata": {
        "id": "uKMtuDVIbMdI",
        "outputId": "a9e76b88-5685-41b2-fa69-fd5d236379aa",
        "colab": {
          "base_uri": "https://localhost:8080/",
          "height": 35
        }
      },
      "source": [
        "x"
      ],
      "execution_count": 7,
      "outputs": [
        {
          "output_type": "execute_result",
          "data": {
            "application/vnd.google.colaboratory.intrinsic+json": {
              "type": "string"
            },
            "text/plain": [
              "'3'"
            ]
          },
          "metadata": {
            "tags": []
          },
          "execution_count": 7
        }
      ]
    },
    {
      "cell_type": "code",
      "metadata": {
        "id": "ZlRQxuyNbSeF",
        "outputId": "5763a73d-72d9-4599-afec-ab55aba37c75",
        "colab": {
          "base_uri": "https://localhost:8080/"
        }
      },
      "source": [
        "print(x)"
      ],
      "execution_count": 8,
      "outputs": [
        {
          "output_type": "stream",
          "text": [
            "3\n"
          ],
          "name": "stdout"
        }
      ]
    },
    {
      "cell_type": "code",
      "metadata": {
        "id": "GgWFfIqSbXg7",
        "outputId": "eafbe4fa-0fe2-4fb2-c1fe-9fa3a7668bb9",
        "colab": {
          "base_uri": "https://localhost:8080/"
        }
      },
      "source": [
        "print(x,2,\"python\")"
      ],
      "execution_count": 9,
      "outputs": [
        {
          "output_type": "stream",
          "text": [
            "3 2 python\n"
          ],
          "name": "stdout"
        }
      ]
    },
    {
      "cell_type": "code",
      "metadata": {
        "id": "lOSdblohg9V-",
        "outputId": "0808021a-f65f-4ef0-92d2-09a9b88c0c75",
        "colab": {
          "base_uri": "https://localhost:8080/"
        }
      },
      "source": [
        "x=int(input('請輸入上衣數量'))\n",
        "y=int(input('請輸入褲子數量'))\n",
        "z=int(input('請輸入背心數量'))\n",
        "\n",
        "total=x*300+y*350+z*400\n",
        "\n",
        "print('訂購服裝的總金額為', total)\n"
      ],
      "execution_count": 16,
      "outputs": [
        {
          "output_type": "stream",
          "text": [
            "請輸入上衣數量2\n",
            "請輸入褲子數量3\n",
            "請輸入背心數量2\n",
            "訂購服裝的總金額為 2450\n"
          ],
          "name": "stdout"
        }
      ]
    },
    {
      "cell_type": "code",
      "metadata": {
        "id": "strgk-C4hE66",
        "outputId": "8ca09862-12eb-470f-9030-958ad29b6ea2",
        "colab": {
          "base_uri": "https://localhost:8080/"
        }
      },
      "source": [
        "cans=int(input(\"請輸入購買的飲料罐數\"))\n",
        "total=(cans//12)*200+(cans%12)*20\n",
        "print(\"需花費\",total)"
      ],
      "execution_count": 12,
      "outputs": [
        {
          "output_type": "stream",
          "text": [
            "請輸入購買的飲料罐數5\n",
            "需花費 100\n"
          ],
          "name": "stdout"
        }
      ]
    },
    {
      "cell_type": "code",
      "metadata": {
        "id": "UFeDYHclhu11",
        "outputId": "39551778-2eca-455f-dc38-dec910fb89fc",
        "colab": {
          "base_uri": "https://localhost:8080/"
        }
      },
      "source": [
        "first=int(input(\"請輸入第一次期中考成績\"))\n",
        "second=int(input(\"請輸入第二次期中考成績\"))\n",
        "final=int(input(\"請輸入期末考成績\"))\n",
        "total=first+second+final\n",
        "average=total/3\n",
        "print(\"總分為\",total,\"平均為\",average)"
      ],
      "execution_count": 14,
      "outputs": [
        {
          "output_type": "stream",
          "text": [
            "請輸入第一次期中考成績90\n",
            "請輸入第二次期中考成績80\n",
            "請輸入期末考成績70\n",
            "總分為 240 平均為 80.0\n"
          ],
          "name": "stdout"
        }
      ]
    }
  ]
}