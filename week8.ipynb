{
  "nbformat": 4,
  "nbformat_minor": 0,
  "metadata": {
    "colab": {
      "name": "week8.ipynb",
      "provenance": [],
      "collapsed_sections": [],
      "authorship_tag": "ABX9TyOm/8qUGhzkHnCQg9l0z6Ga",
      "include_colab_link": true
    },
    "kernelspec": {
      "name": "python3",
      "display_name": "Python 3"
    }
  },
  "cells": [
    {
      "cell_type": "markdown",
      "metadata": {
        "id": "view-in-github",
        "colab_type": "text"
      },
      "source": [
        "<a href=\"https://colab.research.google.com/github/yuenliao805/Computational-Thinking/blob/master/week8.ipynb\" target=\"_parent\"><img src=\"https://colab.research.google.com/assets/colab-badge.svg\" alt=\"Open In Colab\"/></a>"
      ]
    },
    {
      "cell_type": "code",
      "metadata": {
        "id": "ni8UHUDaf2X8",
        "outputId": "5fed4f7c-9e4d-49eb-bafa-d78dbdeb5b27",
        "colab": {
          "base_uri": "https://localhost:8080/"
        }
      },
      "source": [
        "cloth=int(input('請輸入上衣數量'))\n",
        "trousers=int(input('請輸入褲子數量'))\n",
        "vest=int(input('請輸入背心數量'))\n",
        "\n",
        "total=cloth*300+trousers*350+vest*400\n",
        "\n",
        "print('訂購服裝的總金額為', total)"
      ],
      "execution_count": 16,
      "outputs": [
        {
          "output_type": "stream",
          "text": [
            "請輸入上衣數量80\n",
            "請輸入褲子數量60\n",
            "請輸入背心數量3\n",
            "訂購服裝的總金額為 46200\n"
          ],
          "name": "stdout"
        }
      ]
    },
    {
      "cell_type": "code",
      "metadata": {
        "id": "qWDvkn15cTH6",
        "outputId": "cd8264f4-ad1c-4efe-c883-b3f9b2031b06",
        "colab": {
          "base_uri": "https://localhost:8080/"
        }
      },
      "source": [
        "cans=int(input('請輸入購買飲料的罐數'))\n",
        "total=(cans//12)*200+(cans%12)*20\n",
        "print('需花費',total)"
      ],
      "execution_count": 9,
      "outputs": [
        {
          "output_type": "stream",
          "text": [
            "請輸入購買飲料的罐數20\n",
            "需花費 360\n"
          ],
          "name": "stdout"
        }
      ]
    },
    {
      "cell_type": "code",
      "metadata": {
        "id": "kl3DBK9Uc-I-",
        "outputId": "01e0d585-beae-470f-c9c6-0b2ccaa8a8bd",
        "colab": {
          "base_uri": "https://localhost:8080/"
        }
      },
      "source": [
        "fir=int(input('請輸入第一次期中考成績'))\n",
        "sec=int(input('請輸入第二次期中考成績'))\n",
        "final=int(input('請輸入期末考成績'))\n",
        "\n",
        "sum=fir+sec+final\n",
        "avg=sum/3\n",
        "\n",
        "print('總分為',sum,'平均為',avg)"
      ],
      "execution_count": 12,
      "outputs": [
        {
          "output_type": "stream",
          "text": [
            "請輸入第一次期中考成績80\n",
            "請輸入第二次期中考成績90\n",
            "請輸入期末考成績60\n",
            "總分為 230 平均為 76.66666666666667\n"
          ],
          "name": "stdout"
        }
      ]
    }
  ]
}