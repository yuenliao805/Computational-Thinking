{
  "nbformat": 4,
  "nbformat_minor": 0,
  "metadata": {
    "colab": {
      "name": "week16.ipynb",
      "provenance": [],
      "authorship_tag": "ABX9TyNqdQadrkYPotBvL6jr0y7k",
      "include_colab_link": true
    },
    "kernelspec": {
      "name": "python3",
      "display_name": "Python 3"
    }
  },
  "cells": [
    {
      "cell_type": "markdown",
      "metadata": {
        "id": "view-in-github",
        "colab_type": "text"
      },
      "source": [
        "<a href=\"https://colab.research.google.com/github/yuenliao805/Computational-Thinking/blob/master/week16.ipynb\" target=\"_parent\"><img src=\"https://colab.research.google.com/assets/colab-badge.svg\" alt=\"Open In Colab\"/></a>"
      ]
    },
    {
      "cell_type": "code",
      "metadata": {
        "colab": {
          "base_uri": "https://localhost:8080/"
        },
        "id": "0YT9-UkMzUBa",
        "outputId": "1bd74103-bb95-4240-e70e-da2b2056413e"
      },
      "source": [
        "num_a = int(input(\"輸入第一個數字? \"))\r\n",
        "num_b = int(input(\"輸入第二個數字? \"))\r\n",
        "if num_a < 0:\r\n",
        "   print(\"第一個是負數\")\r\n",
        "   if num_b < 0:\r\n",
        "      print(\"第二個也是負數\")\r\n",
        "print(\"比較完成\")\r\n",
        "\r\n"
      ],
      "execution_count": 1,
      "outputs": [
        {
          "output_type": "stream",
          "text": [
            "輸入第一個數字? 1\n",
            "輸入第二個數字? 2\n",
            "比較完成\n"
          ],
          "name": "stdout"
        }
      ]
    },
    {
      "cell_type": "code",
      "metadata": {
        "colab": {
          "base_uri": "https://localhost:8080/"
        },
        "id": "0ObNZu4bzwTC",
        "outputId": "a4d60a0a-bc70-4d32-eada-5ad79c748b8b"
      },
      "source": [
        "num_a = int(input(\"輸入第一個數字? \"))\r\n",
        "num_b = int(input(\"輸入第二個數字? \"))\r\n",
        "if num_a < 0:\r\n",
        "   print(\"第一個是負數\")\r\n",
        "if num_b < 0:\r\n",
        "   print(\"第二個是負數\")\r\n",
        "print(\"比較完成\")"
      ],
      "execution_count": 2,
      "outputs": [
        {
          "output_type": "stream",
          "text": [
            "輸入第一個數字? 5\n",
            "輸入第二個數字? 3\n",
            "比較完成\n"
          ],
          "name": "stdout"
        }
      ]
    }
  ]
}