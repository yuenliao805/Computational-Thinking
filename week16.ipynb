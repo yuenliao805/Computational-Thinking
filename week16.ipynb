{
  "nbformat": 4,
  "nbformat_minor": 0,
  "metadata": {
    "colab": {
      "name": "week16.ipynb",
      "provenance": [],
      "authorship_tag": "ABX9TyPNIXZ4RxXnxi2Mku4cZVDu",
      "include_colab_link": true
    },
    "kernelspec": {
      "name": "python3",
      "display_name": "Python 3"
    }
  },
  "cells": [
    {
      "cell_type": "markdown",
      "metadata": {
        "id": "view-in-github",
        "colab_type": "text"
      },
      "source": [
        "<a href=\"https://colab.research.google.com/github/yuenliao805/Computational-Thinking/blob/master/week16.ipynb\" target=\"_parent\"><img src=\"https://colab.research.google.com/assets/colab-badge.svg\" alt=\"Open In Colab\"/></a>"
      ]
    },
    {
      "cell_type": "code",
      "metadata": {
        "colab": {
          "base_uri": "https://localhost:8080/"
        },
        "id": "0YT9-UkMzUBa",
        "outputId": "1bd74103-bb95-4240-e70e-da2b2056413e"
      },
      "source": [
        "num_a = int(input(\"輸入第一個數字? \"))\r\n",
        "num_b = int(input(\"輸入第二個數字? \"))\r\n",
        "if num_a < 0:\r\n",
        "   print(\"第一個是負數\")\r\n",
        "   if num_b < 0:\r\n",
        "      print(\"第二個也是負數\")\r\n",
        "print(\"比較完成\")\r\n",
        "\r\n"
      ],
      "execution_count": null,
      "outputs": [
        {
          "output_type": "stream",
          "text": [
            "輸入第一個數字? 1\n",
            "輸入第二個數字? 2\n",
            "比較完成\n"
          ],
          "name": "stdout"
        }
      ]
    },
    {
      "cell_type": "code",
      "metadata": {
        "id": "3hjg2plUn1SE"
      },
      "source": [
        ""
      ],
      "execution_count": null,
      "outputs": []
    },
    {
      "cell_type": "code",
      "metadata": {
        "colab": {
          "base_uri": "https://localhost:8080/"
        },
        "id": "BU-8OQrEqsgf",
        "outputId": "74abdf83-28c1-43c7-d9c9-d0ed1c9d93fb"
      },
      "source": [
        "id_last_digit = input(\"請輸入您身分證字號的尾數:\")\r\n",
        "ans = int(id_last_digit) % 2 == 1\r\n",
        "print(\"身份證尾數除以2的餘數是否為1:\", ans)"
      ],
      "execution_count": null,
      "outputs": [
        {
          "output_type": "stream",
          "text": [
            "請輸入您身分證字號的尾數:3\n",
            "身份證尾數除以2的餘數是否為1: True\n"
          ],
          "name": "stdout"
        }
      ]
    },
    {
      "cell_type": "code",
      "metadata": {
        "colab": {
          "base_uri": "https://localhost:8080/"
        },
        "id": "0ObNZu4bzwTC",
        "outputId": "a4d60a0a-bc70-4d32-eada-5ad79c748b8b"
      },
      "source": [
        "num_a = int(input(\"輸入第一個數字? \"))\r\n",
        "num_b = int(input(\"輸入第二個數字? \"))\r\n",
        "if num_a < 0:\r\n",
        "   print(\"第一個是負數\")\r\n",
        "if num_b < 0:\r\n",
        "   print(\"第二個是負數\")\r\n",
        "print(\"比較完成\")"
      ],
      "execution_count": null,
      "outputs": [
        {
          "output_type": "stream",
          "text": [
            "輸入第一個數字? 5\n",
            "輸入第二個數字? 3\n",
            "比較完成\n"
          ],
          "name": "stdout"
        }
      ]
    }
  ]
}