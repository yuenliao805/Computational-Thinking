{
  "nbformat": 4,
  "nbformat_minor": 0,
  "metadata": {
    "colab": {
      "name": "廖妤恩 week13",
      "provenance": [],
      "authorship_tag": "ABX9TyNKGmaJxdxJ9yUi1jGd8EXJ",
      "include_colab_link": true
    },
    "kernelspec": {
      "name": "python3",
      "display_name": "Python 3"
    }
  },
  "cells": [
    {
      "cell_type": "markdown",
      "metadata": {
        "id": "view-in-github",
        "colab_type": "text"
      },
      "source": [
        "<a href=\"https://colab.research.google.com/github/yuenliao805/Computational-Thinking/blob/master/%E5%BB%96%E5%A6%A4%E6%81%A9_week13.ipynb\" target=\"_parent\"><img src=\"https://colab.research.google.com/assets/colab-badge.svg\" alt=\"Open In Colab\"/></a>"
      ]
    },
    {
      "cell_type": "code",
      "metadata": {
        "colab": {
          "base_uri": "https://localhost:8080/"
        },
        "id": "ODUT1QStjvkP",
        "outputId": "35214313-9354-4803-e490-d2953122f571"
      },
      "source": [
        "for i in range(0,5,1,):\r\n",
        " print(\"Hello\")"
      ],
      "execution_count": 3,
      "outputs": [
        {
          "output_type": "stream",
          "text": [
            "Hello\n",
            "Hello\n",
            "Hello\n",
            "Hello\n",
            "Hello\n"
          ],
          "name": "stdout"
        }
      ]
    },
    {
      "cell_type": "code",
      "metadata": {
        "colab": {
          "base_uri": "https://localhost:8080/"
        },
        "id": "FCrevdItk9D0",
        "outputId": "4ba3644e-78b0-460f-bdf2-85ab57c405ef"
      },
      "source": [
        "#[,1,2,3,4]\r\n",
        "for i  in range(0,5,1):\r\n",
        "     print(i)"
      ],
      "execution_count": 4,
      "outputs": [
        {
          "output_type": "stream",
          "text": [
            "0\n",
            "1\n",
            "2\n",
            "3\n",
            "4\n"
          ],
          "name": "stdout"
        }
      ]
    },
    {
      "cell_type": "code",
      "metadata": {
        "colab": {
          "base_uri": "https://localhost:8080/"
        },
        "id": "YHGP1xwClLXc",
        "outputId": "f7f80b87-ffdf-46e9-9555-166ac7c9eea0"
      },
      "source": [
        "#[2,3,4,5]\r\n",
        "for i in range(2,6,1):\r\n",
        "   print(i)"
      ],
      "execution_count": 5,
      "outputs": [
        {
          "output_type": "stream",
          "text": [
            "2\n",
            "3\n",
            "4\n",
            "5\n"
          ],
          "name": "stdout"
        }
      ]
    },
    {
      "cell_type": "code",
      "metadata": {
        "colab": {
          "base_uri": "https://localhost:8080/"
        },
        "id": "ZegbCsTLldiL",
        "outputId": "3287e6ad-e9b3-45c8-e12a-4cca0df3d9f5"
      },
      "source": [
        "#[2,4,6,8]\r\n",
        "for i in range(2,10,2) :\r\n",
        "  print(i)"
      ],
      "execution_count": 7,
      "outputs": [
        {
          "output_type": "stream",
          "text": [
            "2\n",
            "4\n",
            "6\n",
            "8\n"
          ],
          "name": "stdout"
        }
      ]
    },
    {
      "cell_type": "code",
      "metadata": {
        "colab": {
          "base_uri": "https://localhost:8080/"
        },
        "id": "mmkpkBFdl1Gw",
        "outputId": "841f07b0-d03e-4025-a98f-c638afd07700"
      },
      "source": [
        "#[100,97,94,91]\r\n",
        "for i in range(100,90,-3):\r\n",
        "    print(i)"
      ],
      "execution_count": 8,
      "outputs": [
        {
          "output_type": "stream",
          "text": [
            "100\n",
            "97\n",
            "94\n",
            "91\n"
          ],
          "name": "stdout"
        }
      ]
    },
    {
      "cell_type": "code",
      "metadata": {
        "colab": {
          "base_uri": "https://localhost:8080/"
        },
        "id": "2OfMruQEqyZ5",
        "outputId": "e75bdf45-22dc-4f2c-9a67-d5c62b25ed6e"
      },
      "source": [
        "#1.數字1到10加總\r\n",
        "##1+2+3+4+5+6+7+8+9+10=?\r\n",
        "sum = 0 #起始條件\r\n",
        "for i in range(1,11,1): #數字串列[1,2,3,4,5,6,7,8,9,10]\r\n",
        "  sum=sum+i #加總運算，變更條件\r\n",
        "print(\"Total is\",sum)"
      ],
      "execution_count": 17,
      "outputs": [
        {
          "output_type": "stream",
          "text": [
            "Total is 55\n"
          ],
          "name": "stdout"
        }
      ]
    },
    {
      "cell_type": "code",
      "metadata": {
        "colab": {
          "base_uri": "https://localhost:8080/"
        },
        "id": "ZMLiNT9lsvsZ",
        "outputId": "a88df3eb-1f10-4759-ba77-9add489e5fe2"
      },
      "source": [
        "#2.數字1到10奇數之和\r\n",
        "##1+3+5+7=?\r\n",
        "sum=0#起始值\r\n",
        "for i in range(1,11,2):#數字串列[1,3,5,7,9]\r\n",
        "  sum=sum+i#加總運算，變更條件\r\n",
        "print(\"Total is\",sum)\r\n"
      ],
      "execution_count": 19,
      "outputs": [
        {
          "output_type": "stream",
          "text": [
            "Total is 25\n"
          ],
          "name": "stdout"
        }
      ]
    },
    {
      "cell_type": "markdown",
      "metadata": {
        "id": "9EoEnNsft79H"
      },
      "source": [
        "隨堂練習"
      ]
    },
    {
      "cell_type": "code",
      "metadata": {
        "colab": {
          "base_uri": "https://localhost:8080/"
        },
        "id": "n_ibbGdLsYH9",
        "outputId": "286146dd-ff3f-4e78-c64e-1fde15d9b35d"
      },
      "source": [
        "#2+4+6+8+10=?\r\n",
        "sum=0\r\n",
        "for i in range(2,11,2):\r\n",
        "  sum=sum+i\r\n",
        "print(\"Total is\",sum)"
      ],
      "execution_count": 23,
      "outputs": [
        {
          "output_type": "stream",
          "text": [
            "Total is 30\n"
          ],
          "name": "stdout"
        }
      ]
    },
    {
      "cell_type": "code",
      "metadata": {
        "colab": {
          "base_uri": "https://localhost:8080/"
        },
        "id": "fPZcXZsIuofF",
        "outputId": "08e9129a-1d03-41d8-9ab5-618c9ace6bd7"
      },
      "source": [
        "#3到13之間，每隔三個數字之和\r\n",
        "sum=0\r\n",
        "for i in range(3,14,3):\r\n",
        "  sum =sum+i\r\n",
        "print(\"Total is\",sum)  "
      ],
      "execution_count": 24,
      "outputs": [
        {
          "output_type": "stream",
          "text": [
            "Total is 30\n"
          ],
          "name": "stdout"
        }
      ]
    },
    {
      "cell_type": "markdown",
      "metadata": {
        "id": "MnAz7wd6xyj7"
      },
      "source": [
        "作業"
      ]
    },
    {
      "cell_type": "code",
      "metadata": {
        "colab": {
          "base_uri": "https://localhost:8080/"
        },
        "id": "fs4qCSy9xxxj",
        "outputId": "a0e29051-ca64-4c4f-89ee-8796436b9810"
      },
      "source": [
        "#求數字平方和\r\n",
        "i=int(input(\"請輸入n值\"))\r\n",
        "sum=0\r\n",
        "for i in range(i,i+1):\r\n",
        "  sum=sum+i*i\r\n",
        "  print(\"i為\",i,\"時，平方和為\",sum)"
      ],
      "execution_count": 32,
      "outputs": [
        {
          "output_type": "stream",
          "text": [
            "請輸入n值5\n",
            "i為 5 時，平方和為 25\n"
          ],
          "name": "stdout"
        }
      ]
    }
  ]
}