{
  "nbformat": 4,
  "nbformat_minor": 0,
  "metadata": {
    "colab": {
      "name": "week12-1.ipynb",
      "provenance": [],
      "authorship_tag": "ABX9TyMyJp7XTHeoikpOr+3ZWWQu",
      "include_colab_link": true
    },
    "kernelspec": {
      "name": "python3",
      "display_name": "Python 3"
    }
  },
  "cells": [
    {
      "cell_type": "markdown",
      "metadata": {
        "id": "view-in-github",
        "colab_type": "text"
      },
      "source": [
        "<a href=\"https://colab.research.google.com/github/yuenliao805/Computational-Thinking/blob/master/week12_1.ipynb\" target=\"_parent\"><img src=\"https://colab.research.google.com/assets/colab-badge.svg\" alt=\"Open In Colab\"/></a>"
      ]
    },
    {
      "cell_type": "markdown",
      "metadata": {
        "id": "L4lPgQceksea"
      },
      "source": [
        "隨堂練習1:購物清單\n",
        "試著用串列列出你最喜愛的五樣東西，當成購物清單(shopping_list)"
      ]
    },
    {
      "cell_type": "code",
      "metadata": {
        "colab": {
          "base_uri": "https://localhost:8080/"
        },
        "id": "uhQyBybTdQn5",
        "outputId": "20a92bc7-437d-4734-921f-5360bd65d169"
      },
      "source": [
        "shopping_list=[\"泡麵\",\"牛奶\",\"餅乾\",\"馬鈴薯\",\"麵包\"]\n",
        "print(shopping_list)"
      ],
      "execution_count": null,
      "outputs": [
        {
          "output_type": "stream",
          "text": [
            "['泡麵', '牛奶', '餅乾', '馬鈴薯', '麵包']\n"
          ],
          "name": "stdout"
        }
      ]
    },
    {
      "cell_type": "code",
      "metadata": {
        "colab": {
          "base_uri": "https://localhost:8080/"
        },
        "id": "nc4E411Ph0Xj",
        "outputId": "5a9bf145-0dc1-446c-dbae-dd1b0f07a84e"
      },
      "source": [
        "list5=[\"泡麵\",\"牛奶\",\"餅乾\",\"馬鈴薯\",\"麵包\"]\n",
        "print(list5)"
      ],
      "execution_count": null,
      "outputs": [
        {
          "output_type": "stream",
          "text": [
            "['泡麵', '牛奶', '餅乾', '馬鈴薯', '麵包']\n"
          ],
          "name": "stdout"
        }
      ]
    },
    {
      "cell_type": "code",
      "metadata": {
        "colab": {
          "base_uri": "https://localhost:8080/"
        },
        "id": "iGzwjpMSf2dj",
        "outputId": "b67b40e0-0448-48c1-d7a5-62cbdcde64e1"
      },
      "source": [
        "print(list5[0])"
      ],
      "execution_count": null,
      "outputs": [
        {
          "output_type": "stream",
          "text": [
            "泡麵\n"
          ],
          "name": "stdout"
        }
      ]
    },
    {
      "cell_type": "code",
      "metadata": {
        "colab": {
          "base_uri": "https://localhost:8080/"
        },
        "id": "hUBE0iF4gAQu",
        "outputId": "e5b6a87a-e7ed-4e2a-c2a7-d615f7cfc5d7"
      },
      "source": [
        "list5[1]=\"起司\"\n",
        "print(list5)"
      ],
      "execution_count": null,
      "outputs": [
        {
          "output_type": "stream",
          "text": [
            "['泡麵', '起司', '餅乾', '馬鈴薯', '麵包']\n"
          ],
          "name": "stdout"
        }
      ]
    },
    {
      "cell_type": "code",
      "metadata": {
        "colab": {
          "base_uri": "https://localhost:8080/"
        },
        "id": "OMDXffgdgtHD",
        "outputId": "563566cd-83ba-4e90-97e0-8c676cbb0ee1"
      },
      "source": [
        "print(list5[1:3])"
      ],
      "execution_count": null,
      "outputs": [
        {
          "output_type": "stream",
          "text": [
            "['起司', '餅乾']\n"
          ],
          "name": "stdout"
        }
      ]
    },
    {
      "cell_type": "code",
      "metadata": {
        "id": "gqjuXF2JhyhO"
      },
      "source": [
        ""
      ],
      "execution_count": null,
      "outputs": []
    }
  ]
}