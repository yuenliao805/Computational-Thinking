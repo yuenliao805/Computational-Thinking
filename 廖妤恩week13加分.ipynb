{
  "nbformat": 4,
  "nbformat_minor": 0,
  "metadata": {
    "colab": {
      "name": "廖妤恩week13加分",
      "provenance": [],
      "authorship_tag": "ABX9TyPlAYN4G94Pr9/RV3l5pxB/",
      "include_colab_link": true
    },
    "kernelspec": {
      "name": "python3",
      "display_name": "Python 3"
    }
  },
  "cells": [
    {
      "cell_type": "markdown",
      "metadata": {
        "id": "view-in-github",
        "colab_type": "text"
      },
      "source": [
        "<a href=\"https://colab.research.google.com/github/yuenliao805/Computational-Thinking/blob/master/%E5%BB%96%E5%A6%A4%E6%81%A9week13%E5%8A%A0%E5%88%86.ipynb\" target=\"_parent\"><img src=\"https://colab.research.google.com/assets/colab-badge.svg\" alt=\"Open In Colab\"/></a>"
      ]
    },
    {
      "cell_type": "code",
      "metadata": {
        "id": "1_HTZqZvzH-_"
      },
      "source": [
        ""
      ],
      "execution_count": null,
      "outputs": []
    },
    {
      "cell_type": "markdown",
      "metadata": {
        "id": "8GndjM7dvsbw"
      },
      "source": [
        "加分練習"
      ]
    },
    {
      "cell_type": "code",
      "metadata": {
        "colab": {
          "base_uri": "https://localhost:8080/"
        },
        "id": "RsvG6heazjYu",
        "outputId": "41e85506-2d36-4fd9-e4dd-b62e834bb67c"
      },
      "source": [
        "#給數字串列，將數字串列中的元素加總\r\n",
        "##數字串列的初值 終值 遞算值\r\n",
        "start=int(input(\"請輸入加總開始值?\"))\r\n",
        "end=int(input(\"請輸入加總終止值?\"))\r\n",
        "step=int(input(\"請輸入遞增減值?\"))\r\n",
        "##用for迴圈做加總+range()\r\n",
        "sum=0 #初始條件\r\n",
        "for i in range(start,end,step):#判斷條件\r\n",
        " sum=sum+i #更新條件\r\n",
        " print(\"i為\",i,\"時，累加結果為\",sum)"
      ],
      "execution_count": 1,
      "outputs": [
        {
          "output_type": "stream",
          "text": [
            "請輸入加總開始值?5\n",
            "請輸入加總終止值?90\n",
            "請輸入遞增減值?10\n",
            "i為 5 時，累加結果為 5\n",
            "i為 15 時，累加結果為 20\n",
            "i為 25 時，累加結果為 45\n",
            "i為 35 時，累加結果為 80\n",
            "i為 45 時，累加結果為 125\n",
            "i為 55 時，累加結果為 180\n",
            "i為 65 時，累加結果為 245\n",
            "i為 75 時，累加結果為 320\n",
            "i為 85 時，累加結果為 405\n"
          ],
          "name": "stdout"
        }
      ]
    }
  ]
}